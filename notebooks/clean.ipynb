{
 "cells": [
  {
   "cell_type": "code",
   "execution_count": 1,
   "metadata": {},
   "outputs": [],
   "source": [
    "import pandas as pd\n",
    "import numpy as np\n",
    "from pyaxis import pyaxis\n",
    "\n",
    "import sys\n",
    "sys.path.append('../')\n",
    "import src.support as ine\n",
    "import src.library as bb"
   ]
  },
  {
   "cell_type": "code",
   "execution_count": null,
   "metadata": {},
   "outputs": [],
   "source": [
    "lista = [\n",
    "    'Renta Media y Mediana',\n",
    "    'Distribución por fuente de ingresos',\n",
    "    'Índice de Gini y Distribución de la renta P80_P20',\n",
    "    'Indicadores demográficos'\n",
    "]"
   ]
  },
  {
   "cell_type": "code",
   "execution_count": null,
   "metadata": {},
   "outputs": [],
   "source": [
    "for file in lista:\n",
    "    code = bb.ine_experimental[file]\n",
    "    df = ine.INE_Experimental.cleanData(ine.INE_Experimental.getData(code), code)\n",
    "    print(df.shape)\n",
    "    display(df)\n",
    "    ine.INE_Experimental.export(df, file)"
   ]
  }
 ],
 "metadata": {
  "kernelspec": {
   "display_name": "iron2",
   "language": "python",
   "name": "python3"
  },
  "language_info": {
   "codemirror_mode": {
    "name": "ipython",
    "version": 3
   },
   "file_extension": ".py",
   "mimetype": "text/x-python",
   "name": "python",
   "nbconvert_exporter": "python",
   "pygments_lexer": "ipython3",
   "version": "3.9.16"
  },
  "orig_nbformat": 4
 },
 "nbformat": 4,
 "nbformat_minor": 2
}
